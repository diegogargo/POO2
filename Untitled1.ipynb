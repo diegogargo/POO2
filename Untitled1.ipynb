{
  "nbformat": 4,
  "nbformat_minor": 0,
  "metadata": {
    "colab": {
      "provenance": []
    },
    "kernelspec": {
      "name": "python3",
      "display_name": "Python 3"
    },
    "language_info": {
      "name": "python"
    }
  },
  "cells": [
    {
      "cell_type": "code",
      "execution_count": 2,
      "metadata": {
        "id": "m-EOI-Fjh-ux"
      },
      "outputs": [],
      "source": [
        "import numpy as np\n"
      ]
    },
    {
      "cell_type": "code",
      "source": [
        "P = np.random.randint(1,10, 100)\n",
        "P"
      ],
      "metadata": {
        "colab": {
          "base_uri": "https://localhost:8080/"
        },
        "id": "NUvWKlR2iA2-",
        "outputId": "834f5ec3-5e7a-411b-8f85-2e6b5a6ce0d7"
      },
      "execution_count": 24,
      "outputs": [
        {
          "output_type": "execute_result",
          "data": {
            "text/plain": [
              "array([5, 5, 2, 4, 4, 9, 4, 7, 7, 2, 8, 3, 9, 3, 5, 1, 3, 4, 3, 7, 5, 9,\n",
              "       8, 5, 5, 5, 9, 9, 6, 7, 6, 9, 7, 4, 6, 1, 7, 8, 6, 8, 5, 3, 4, 6,\n",
              "       3, 8, 4, 1, 7, 3, 4, 2, 4, 5, 4, 4, 4, 7, 9, 3, 1, 9, 9, 5, 5, 3,\n",
              "       7, 5, 7, 7, 5, 4, 5, 6, 5, 4, 3, 5, 1, 1, 1, 1, 3, 2, 5, 4, 7, 4,\n",
              "       7, 6, 6, 1, 3, 3, 2, 3, 8, 5, 8, 2])"
            ]
          },
          "metadata": {},
          "execution_count": 24
        }
      ]
    },
    {
      "cell_type": "code",
      "source": [
        "Pares = [i for i in P if i% 2==0]\n",
        "Pares"
      ],
      "metadata": {
        "colab": {
          "base_uri": "https://localhost:8080/"
        },
        "id": "RahWYxA1iUiu",
        "outputId": "7c63bae3-bd4b-497c-9327-b7d25a2fc87b"
      },
      "execution_count": 25,
      "outputs": [
        {
          "output_type": "execute_result",
          "data": {
            "text/plain": [
              "[2,\n",
              " 4,\n",
              " 4,\n",
              " 4,\n",
              " 2,\n",
              " 8,\n",
              " 4,\n",
              " 8,\n",
              " 6,\n",
              " 6,\n",
              " 4,\n",
              " 6,\n",
              " 8,\n",
              " 6,\n",
              " 8,\n",
              " 4,\n",
              " 6,\n",
              " 8,\n",
              " 4,\n",
              " 4,\n",
              " 2,\n",
              " 4,\n",
              " 4,\n",
              " 4,\n",
              " 4,\n",
              " 4,\n",
              " 6,\n",
              " 4,\n",
              " 2,\n",
              " 4,\n",
              " 4,\n",
              " 6,\n",
              " 6,\n",
              " 2,\n",
              " 8,\n",
              " 8,\n",
              " 2]"
            ]
          },
          "metadata": {},
          "execution_count": 25
        }
      ]
    }
  ]
}